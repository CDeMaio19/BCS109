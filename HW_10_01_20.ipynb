{
  "nbformat": 4,
  "nbformat_minor": 0,
  "metadata": {
    "colab": {
      "name": "HW 10/01/20.ipynb",
      "provenance": [],
      "collapsed_sections": []
    },
    "kernelspec": {
      "name": "python3",
      "display_name": "Python 3"
    }
  },
  "cells": [
    {
      "cell_type": "code",
      "metadata": {
        "id": "49icS4vKk-ss",
        "outputId": "d6141f71-5e99-494e-b25a-25a08b631bd0",
        "colab": {
          "base_uri": "https://localhost:8080/",
          "height": 151
        }
      },
      "source": [
        "import re\n",
        "##Get Name and Age\n",
        "print(\"We will get your Name and Age!\")\n",
        "counterOne = 0\n",
        "counterTwo = 0\n",
        "##Get Age\n",
        "## 1 - 100, inclusive \n",
        "Age = 0\n",
        "while counterOne < 3:\n",
        "  try:\n",
        "    Age = int(input(\"Enter your age: \"))\n",
        "    if (Age > 0 and Age <= 100):\n",
        "      print(\"Acceptable\")\n",
        "      break\n",
        "    print(\"Unacceptable\")\n",
        "    counterOne+= 1\n",
        "  except Exception as e:\n",
        "    print(e)\n",
        "##Get Name\n",
        "Name = \"\"\n",
        "while counterTwo < 3:\n",
        "  try:\n",
        "    Name = input(\"Enter your Name: \")\n",
        "    if (Name.isalpha()):\n",
        "      print(\"Acceptable\")\n",
        "      break\n",
        "    print(\"Unacceptable\")\n",
        "    counterTwo+= 1\n",
        "  except Exception as e:\n",
        "    print(e)\n",
        "\n",
        "##Password\n",
        "flag = 0\n",
        "while True:\n",
        "  password = input(\"\\nEnter your Password: \")\n",
        "  if (len(password)<8): \n",
        "        flag = -1\n",
        "        print(\"Password not long enough!\")\n",
        "  elif not re.search(\"[a-z]\", password): \n",
        "        flag = -1\n",
        "        print(\"Password does not contain a lowercase letter!\")\n",
        "  elif not re.search(\"[A-Z]\", password): \n",
        "        flag = -1\n",
        "        print(\"Password does not contain a uppercase letter!\")\n",
        "  elif not re.search(\"[0-9]\", password): \n",
        "        flag = -1\n",
        "        print(\"Password does not contain a number!\")\n",
        "  elif not re.search(\"[_@$#!%&*+]\", password): \n",
        "        flag = -1\n",
        "        print(\"Password does not contain a special character!\")\n",
        "  elif re.search(\"\\s\", password): \n",
        "        flag = -1\n",
        "        print(\"Password contains a white space!\")\n",
        "  else: \n",
        "        flag = 0\n",
        "        print(\"Valid Password\") \n",
        "        break\n",
        "  "
      ],
      "execution_count": null,
      "outputs": [
        {
          "output_type": "stream",
          "text": [
            "We will get your Name and Age!\n",
            "Enter your age: 5\n",
            "Acceptable\n",
            "Enter your Name: j\n",
            "Acceptable\n",
            "\n",
            "Enter your Password: lsmcksdlmcdkJ2@\n",
            "Valid Password\n"
          ],
          "name": "stdout"
        }
      ]
    },
    {
      "cell_type": "code",
      "metadata": {
        "id": "2QhTq4yQA3l7",
        "outputId": "5b2c9d9a-86b3-46d0-ad0e-22ac148baad9",
        "colab": {
          "base_uri": "https://localhost:8080/",
          "height": 54
        }
      },
      "source": [
        "##Loop containing 3\n",
        "import re\n",
        "for var in list(range(1000)):\n",
        "  checker = str(var)\n",
        "  if re.search(\"3\", checker):\n",
        "     print(checker, end=\"|\")"
      ],
      "execution_count": 14,
      "outputs": [
        {
          "output_type": "stream",
          "text": [
            "3|13|23|30|31|32|33|34|35|36|37|38|39|43|53|63|73|83|93|103|113|123|130|131|132|133|134|135|136|137|138|139|143|153|163|173|183|193|203|213|223|230|231|232|233|234|235|236|237|238|239|243|253|263|273|283|293|300|301|302|303|304|305|306|307|308|309|310|311|312|313|314|315|316|317|318|319|320|321|322|323|324|325|326|327|328|329|330|331|332|333|334|335|336|337|338|339|340|341|342|343|344|345|346|347|348|349|350|351|352|353|354|355|356|357|358|359|360|361|362|363|364|365|366|367|368|369|370|371|372|373|374|375|376|377|378|379|380|381|382|383|384|385|386|387|388|389|390|391|392|393|394|395|396|397|398|399|403|413|423|430|431|432|433|434|435|436|437|438|439|443|453|463|473|483|493|503|513|523|530|531|532|533|534|535|536|537|538|539|543|553|563|573|583|593|603|613|623|630|631|632|633|634|635|636|637|638|639|643|653|663|673|683|693|703|713|723|730|731|732|733|734|735|736|737|738|739|743|753|763|773|783|793|803|813|823|830|831|832|833|834|835|836|837|838|839|843|853|863|873|883|893|903|913|923|930|931|932|933|934|935|936|937|938|939|943|953|963|973|983|993|"
          ],
          "name": "stdout"
        }
      ]
    },
    {
      "cell_type": "code",
      "metadata": {
        "id": "t0saVh_6VRUS",
        "outputId": "d0a03f99-9ebc-4956-b56b-695dc6d683b4",
        "colab": {
          "base_uri": "https://localhost:8080/",
          "height": 34
        }
      },
      "source": [
        "##Print even numbers backwards\n",
        "for number in range(100,0,-1):\n",
        "  if (number%2 == 0):\n",
        "    print(number, end=\"|\")"
      ],
      "execution_count": 16,
      "outputs": [
        {
          "output_type": "stream",
          "text": [
            "100|98|96|94|92|90|88|86|84|82|80|78|76|74|72|70|68|66|64|62|60|58|56|54|52|50|48|46|44|42|40|38|36|34|32|30|28|26|24|22|20|18|16|14|12|10|8|6|4|2|"
          ],
          "name": "stdout"
        }
      ]
    },
    {
      "cell_type": "code",
      "metadata": {
        "id": "xRtF-xVkWhC_"
      },
      "source": [
        "for number in range(100,1000):\n",
        "        if (number % 1 == 0):\n",
        "          break\n",
        "          print(number, end=\"|\")\n",
        "      "
      ],
      "execution_count": 26,
      "outputs": []
    }
  ]
}