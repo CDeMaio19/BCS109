{
  "nbformat": 4,
  "nbformat_minor": 0,
  "metadata": {
    "colab": {
      "name": "Untitled1.ipynb",
      "provenance": []
    },
    "kernelspec": {
      "name": "python3",
      "display_name": "Python 3"
    }
  },
  "cells": [
    {
      "cell_type": "code",
      "metadata": {
        "id": "FEAcNrFTOfcF",
        "colab_type": "code",
        "colab": {
          "base_uri": "https://localhost:8080/",
          "height": 185
        },
        "outputId": "1f55bfc2-5983-427a-db5c-286e92b18815"
      },
      "source": [
        "##Get Current Value\n",
        "print(\"We Will Calculate How Much You Need To Invest To Achieve Your Value\\n\")\n",
        "##Input Future Value\n",
        "FutureValue = 0\n",
        "FutureValue = int(input(\"What's the future value?\\n\"))\n",
        "##Input Interest Rate\n",
        "InterestRate = 0.0\n",
        "InterestRate = float(input(\"What's the interest rate decimal?\\n\"))\n",
        "#Input Years\n",
        "NumOfYears = 0\n",
        "NumOfYears = int(input(\"How many years?\\n\"))\n",
        "##Get Value\n",
        "Value=0.0\n",
        "Value = (FutureValue*InterestRate)*NumOfYears\n",
        "#Subtract Value from Future Value to get Current Value\n",
        "CurrentValue = 0.0\n",
        "CurrentValue = FutureValue-Value\n",
        "#Present the Start Value\n",
        "print(\"\\nThe Value You Need To Start With Is: \",CurrentValue)"
      ],
      "execution_count": 18,
      "outputs": [
        {
          "output_type": "stream",
          "text": [
            "We Will Calculate How Much You Need To Invest To Achieve Your Value\n",
            "\n",
            "What's the future value?\n",
            "5000\n",
            "What's the interest rate decimal?\n",
            ".05\n",
            "How many years?\n",
            "5\n",
            "\n",
            "The Value You Need To Start With Is:  3750.0\n"
          ],
          "name": "stdout"
        }
      ]
    }
  ]
}