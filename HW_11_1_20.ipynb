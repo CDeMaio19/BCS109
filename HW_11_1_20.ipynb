{
  "nbformat": 4,
  "nbformat_minor": 0,
  "metadata": {
    "colab": {
      "name": "HW 11/1/20.ipynb",
      "provenance": [],
      "collapsed_sections": []
    },
    "kernelspec": {
      "name": "python3",
      "display_name": "Python 3"
    }
  },
  "cells": [
    {
      "cell_type": "code",
      "metadata": {
        "id": "WpEfda9nv2oD",
        "outputId": "d953d3a7-d2ca-4057-962c-0c95e0f390ad",
        "colab": {
          "base_uri": "https://localhost:8080/"
        }
      },
      "source": [
        "#1\n",
        "from statistics import stdev\n",
        "import math\n",
        "\n",
        "def maxnum( array ):\n",
        "   \"Max Number\"\n",
        "   maxer = max(array)\n",
        "   print(\"Max Number: \", maxer)\n",
        "   return;\n",
        "def minnum( array ):\n",
        "  \"Min Number\"\n",
        "  miner = min(array)\n",
        "  print(\"Min Number: \", miner)\n",
        "  return;\n",
        "def stanum( array ):\n",
        "  \"Standard Deviation Number\"\n",
        "  staer = stdev(array)\n",
        "  print(\"Standard Deviation Number: \", staer)\n",
        "  return;\n",
        "def geoav( array ):\n",
        "  \"Geometric Average Number\"\n",
        "  temp = 1\n",
        "  for i in range(0, len(array)) :  \n",
        "      temp = temp * array[i]  \n",
        "  temp2 = (float)(math.pow(temp, (1 / len(array))))  \n",
        "  res = (float)(temp2)\n",
        "  print(\"Geometric Average Number: \", res);\n",
        "  return;\n",
        "\n",
        "myarray = [10,20,30];\n",
        "maxnum(myarray);\n",
        "minnum(myarray);\n",
        "stanum(myarray);\n",
        "geoav(myarray);\n",
        "\n"
      ],
      "execution_count": 12,
      "outputs": [
        {
          "output_type": "stream",
          "text": [
            "Max Number:  30\n",
            "Min Number:  10\n",
            "Standard Deviation Number:  10.0\n",
            "Geometric Average Number:  18.171205928321395\n"
          ],
          "name": "stdout"
        }
      ]
    },
    {
      "cell_type": "code",
      "metadata": {
        "id": "7NzvBpa11R7W",
        "outputId": "76338ec7-297b-42a6-d090-151b1b05730d",
        "colab": {
          "base_uri": "https://localhost:8080/"
        }
      },
      "source": [
        "#2\n",
        "def AreaofShape(string):\n",
        "  if (string == \"Triangle\"):\n",
        "    Base = int(input(\"Please enter Base:\\n\"))\n",
        "    Height = int(input(\"Please enter Height:\\n\"))\n",
        "    Area = (Height*(Base/2))\n",
        "    print(\"The Area of the Triangle is: \", Area)\n",
        "    return;\n",
        "  if (string == \"Circle\"):\n",
        "    Radius = int(input(\"Please enter Radius:\\n\"))\n",
        "    Area = (3.14159 * (Radius**2))\n",
        "    print(\"The Area of the Circle is: \", Area)\n",
        "    return;\n",
        "  if (string == \"Square\"):\n",
        "    SideLength = int(input(\"Please enter Side Length:\\n\"))\n",
        "    Area = (SideLength**2)\n",
        "    print(\"The Area of the Square is: \", Area)\n",
        "    return;\n",
        "  if (string == \"Null\"):\n",
        "    print(\"Not Correct Selection\")\n",
        "    return;\n",
        "\n",
        "\n",
        "Shape = int(input(\"Would you like to get the area of a...\\n1.Triangle\\n2.Circle\\n3.Square\\n\"));\n",
        "Type = \"Null\"\n",
        "if (Shape == 1):\n",
        "  Type = \"Triangle\";\n",
        "if (Shape == 2):\n",
        "  Type = \"Circle\";\n",
        "if (Shape == 3):\n",
        "  Type = \"Square\";\n",
        "AreaofShape(Type);\n",
        "\n"
      ],
      "execution_count": 33,
      "outputs": [
        {
          "output_type": "stream",
          "text": [
            "Would you like to get the area of a...\n",
            "1.Triangle\n",
            "2.Circle\n",
            "3.Square\n",
            "1\n",
            "Please enter Base:\n",
            "5\n",
            "Please enter Height:\n",
            "5\n",
            "The Area of the Triangle is:  12.5\n"
          ],
          "name": "stdout"
        }
      ]
    },
    {
      "cell_type": "code",
      "metadata": {
        "id": "jJEfuC6M8fGF",
        "outputId": "529b9667-0001-4dc3-b652-75fc24ebaef5",
        "colab": {
          "base_uri": "https://localhost:8080/"
        }
      },
      "source": [
        "#3\n",
        "def doublelist(List):\n",
        " select = int(input(\"Option 1 or 2\\n\"))\n",
        " \n",
        " if (select == 2):\n",
        "   Listtwo = List\n",
        "   Listthree = []\n",
        "   for x in Listtwo:\n",
        "     x = (x*2)\n",
        "     Listthree.append(x)\n",
        "   Listfinal = List + Listthree\n",
        "   return Listfinal;\n",
        " if (select == 1):\n",
        "   Listtwo = List\n",
        "   Listfinal = List + Listtwo\n",
        "   return Listfinal;\n",
        " else:\n",
        "   print(\"That is not 1 or 2\\n\")\n",
        "\n",
        "myarray = [1,2,3];\n",
        "print(doublelist(myarray));\n"
      ],
      "execution_count": 8,
      "outputs": [
        {
          "output_type": "stream",
          "text": [
            "Option 1 or 2\n",
            "2\n",
            "[1, 2, 3, 2, 4, 6]\n"
          ],
          "name": "stdout"
        }
      ]
    },
    {
      "cell_type": "code",
      "metadata": {
        "id": "BvTnwCJd4llt",
        "outputId": "11125236-1ec5-4e05-bf18-51e09e5658fa",
        "colab": {
          "base_uri": "https://localhost:8080/"
        }
      },
      "source": [
        "#4\n",
        "def combineList(ListA, ListB):\n",
        "  finalList = []\n",
        "  z = 0\n",
        "  for x in ListA:\n",
        "      y=x+ListB[z]\n",
        "      finalList.append(y)\n",
        "      z=1+z\n",
        "  return finalList;\n",
        "\n",
        "\n",
        "myarray = [1,2,3];\n",
        "yourarray = [7,8,9];\n",
        "print(combineList(myarray, yourarray));\n"
      ],
      "execution_count": 14,
      "outputs": [
        {
          "output_type": "stream",
          "text": [
            "[8, 10, 12]\n"
          ],
          "name": "stdout"
        }
      ]
    },
    {
      "cell_type": "code",
      "metadata": {
        "id": "0rR2w_-G64UV",
        "outputId": "2e20181b-bc75-434f-cee0-40c792bd9ff2",
        "colab": {
          "base_uri": "https://localhost:8080/"
        }
      },
      "source": [
        "#5\n",
        "def gimmePrime(number):\n",
        "  print(\"Prime Numbers:\")\n",
        "  for num in range(number):\n",
        "    if num > 1:\n",
        "      for i in range(2,num):\n",
        "        if (num % i) == 0:\n",
        "          break\n",
        "      else:\n",
        "       print(num)\n",
        "  return;\n",
        "\n",
        "Num = int(input(\"Enter the max number:\\n\"))\n",
        "gimmePrime(Num);"
      ],
      "execution_count": 18,
      "outputs": [
        {
          "output_type": "stream",
          "text": [
            "Enter the max number:\n",
            "100\n",
            "Prime Numbers:\n",
            "2\n",
            "3\n",
            "5\n",
            "7\n",
            "11\n",
            "13\n",
            "17\n",
            "19\n",
            "23\n",
            "29\n",
            "31\n",
            "37\n",
            "41\n",
            "43\n",
            "47\n",
            "53\n",
            "59\n",
            "61\n",
            "67\n",
            "71\n",
            "73\n",
            "79\n",
            "83\n",
            "89\n",
            "97\n"
          ],
          "name": "stdout"
        }
      ]
    },
    {
      "cell_type": "code",
      "metadata": {
        "id": "A__Rk9gh9zY2",
        "outputId": "fe10adaf-a3de-47f7-ebc3-8519f3ef9bea",
        "colab": {
          "base_uri": "https://localhost:8080/"
        }
      },
      "source": [
        "#6\n",
        "def calculation(A,B):\n",
        "  sub = A-B\n",
        "  add = A+B\n",
        "  return sub, add\n",
        "\n",
        "A = 15\n",
        "B = 5\n",
        "sub, add = calculation(A,B)\n",
        "print(\"Subtraction: \", sub)\n",
        "print(\"Addition: \", add)"
      ],
      "execution_count": 21,
      "outputs": [
        {
          "output_type": "stream",
          "text": [
            "Subtraction:  10\n",
            "Addition:  20\n"
          ],
          "name": "stdout"
        }
      ]
    },
    {
      "cell_type": "code",
      "metadata": {
        "id": "CMLehPpp_4jK",
        "outputId": "323985e9-a9ea-4908-f5e8-812a760ee3e9",
        "colab": {
          "base_uri": "https://localhost:8080/"
        }
      },
      "source": [
        "#7\n",
        "sum = 0\n",
        "for i in range(1000):\n",
        "  if ((i%5==0) or (i%3==0)):\n",
        "    sum = sum + i\n",
        "print(\"The sum of all the multiples of 3 or 5 below 1000 is: \", sum)"
      ],
      "execution_count": 26,
      "outputs": [
        {
          "output_type": "stream",
          "text": [
            "The sum of all the multiples of 3 or 5 below 1000 is:  233168\n"
          ],
          "name": "stdout"
        }
      ]
    },
    {
      "cell_type": "code",
      "metadata": {
        "id": "m4msHuK1B4Zk",
        "outputId": "267df664-390e-45a8-aafd-5e49ccd801eb",
        "colab": {
          "base_uri": "https://localhost:8080/"
        }
      },
      "source": [
        "#8\n",
        "def evenSum(limit) : \n",
        "    if (limit < 2) : \n",
        "        return 0\n",
        "  \n",
        "    f1 = 0\n",
        "    f2 = 2\n",
        "    sm= f1 + f2 \n",
        "    while (f2 <= limit) :  \n",
        "        f3 = 4 * f2 + f1  \n",
        "        if (f3 > limit) : \n",
        "            break\n",
        "        f1 = f2 \n",
        "        f2 = f3 \n",
        "        sm = sm + f2 \n",
        "      \n",
        "    return sm \n",
        "\n",
        "print(\"The sum of the even valued Fibonacci numbers below 1000 is: \", evenSum(1000))"
      ],
      "execution_count": 27,
      "outputs": [
        {
          "output_type": "stream",
          "text": [
            "The sum of the even valued Fibonacci numbers below 1000 is:  798\n"
          ],
          "name": "stdout"
        }
      ]
    }
  ]
}