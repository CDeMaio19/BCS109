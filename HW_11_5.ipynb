{
  "nbformat": 4,
  "nbformat_minor": 0,
  "metadata": {
    "colab": {
      "name": "HW 11/5.ipynb",
      "provenance": [],
      "collapsed_sections": []
    },
    "kernelspec": {
      "name": "python3",
      "display_name": "Python 3"
    }
  },
  "cells": [
    {
      "cell_type": "code",
      "metadata": {
        "id": "I3m5TQKD9fFA",
        "outputId": "51687a7a-fffe-4d59-e996-dbda56fddb15",
        "colab": {
          "base_uri": "https://localhost:8080/",
          "height": 195
        }
      },
      "source": [
        "#Load Librarys\n",
        "import pandas as pd\n",
        "import numpy as np\n",
        "import matplotlib.pyplot as plt\n",
        "import missingno as msno\n",
        "import seaborn as sns\n",
        "\n",
        "df = pd.read_csv(\"https://raw.githubusercontent.com/CDeMaio19/BCS109/master/Data.csv\")\n",
        "df.head()"
      ],
      "execution_count": 1,
      "outputs": [
        {
          "output_type": "execute_result",
          "data": {
            "text/html": [
              "<div>\n",
              "<style scoped>\n",
              "    .dataframe tbody tr th:only-of-type {\n",
              "        vertical-align: middle;\n",
              "    }\n",
              "\n",
              "    .dataframe tbody tr th {\n",
              "        vertical-align: top;\n",
              "    }\n",
              "\n",
              "    .dataframe thead th {\n",
              "        text-align: right;\n",
              "    }\n",
              "</style>\n",
              "<table border=\"1\" class=\"dataframe\">\n",
              "  <thead>\n",
              "    <tr style=\"text-align: right;\">\n",
              "      <th></th>\n",
              "      <th>Student#</th>\n",
              "      <th>Age</th>\n",
              "      <th>GPA</th>\n",
              "      <th>BirthYear</th>\n",
              "      <th>YearsEnrolled</th>\n",
              "    </tr>\n",
              "  </thead>\n",
              "  <tbody>\n",
              "    <tr>\n",
              "      <th>0</th>\n",
              "      <td>1</td>\n",
              "      <td>22</td>\n",
              "      <td>3.0</td>\n",
              "      <td>1998</td>\n",
              "      <td>4</td>\n",
              "    </tr>\n",
              "    <tr>\n",
              "      <th>1</th>\n",
              "      <td>2</td>\n",
              "      <td>18</td>\n",
              "      <td>2.5</td>\n",
              "      <td>2002</td>\n",
              "      <td>0</td>\n",
              "    </tr>\n",
              "    <tr>\n",
              "      <th>2</th>\n",
              "      <td>3</td>\n",
              "      <td>20</td>\n",
              "      <td>2.7</td>\n",
              "      <td>2000</td>\n",
              "      <td>2</td>\n",
              "    </tr>\n",
              "    <tr>\n",
              "      <th>3</th>\n",
              "      <td>4</td>\n",
              "      <td>19</td>\n",
              "      <td>3.0</td>\n",
              "      <td>2001</td>\n",
              "      <td>1</td>\n",
              "    </tr>\n",
              "    <tr>\n",
              "      <th>4</th>\n",
              "      <td>5</td>\n",
              "      <td>18</td>\n",
              "      <td>4.0</td>\n",
              "      <td>2002</td>\n",
              "      <td>0</td>\n",
              "    </tr>\n",
              "  </tbody>\n",
              "</table>\n",
              "</div>"
            ],
            "text/plain": [
              "   Student#  Age  GPA  BirthYear  YearsEnrolled\n",
              "0         1   22  3.0       1998              4\n",
              "1         2   18  2.5       2002              0\n",
              "2         3   20  2.7       2000              2\n",
              "3         4   19  3.0       2001              1\n",
              "4         5   18  4.0       2002              0"
            ]
          },
          "metadata": {
            "tags": []
          },
          "execution_count": 1
        }
      ]
    },
    {
      "cell_type": "code",
      "metadata": {
        "id": "DtZ1TRxe-r4R",
        "outputId": "08969b17-36ab-429b-db0d-95d226e896f5",
        "colab": {
          "base_uri": "https://localhost:8080/"
        }
      },
      "source": [
        "#Check For Nulls\n",
        "df.isnull().sum()"
      ],
      "execution_count": 3,
      "outputs": [
        {
          "output_type": "execute_result",
          "data": {
            "text/plain": [
              "Student#         0\n",
              "Age              0\n",
              "GPA              0\n",
              "BirthYear        0\n",
              "YearsEnrolled    0\n",
              "dtype: int64"
            ]
          },
          "metadata": {
            "tags": []
          },
          "execution_count": 3
        }
      ]
    },
    {
      "cell_type": "code",
      "metadata": {
        "id": "0XLuYysW-92n",
        "outputId": "1a315149-5fee-4171-b01f-e59e8e99d36b",
        "colab": {
          "base_uri": "https://localhost:8080/",
          "height": 284
        }
      },
      "source": [
        "#Get Statistics\n",
        "df.describe()"
      ],
      "execution_count": 6,
      "outputs": [
        {
          "output_type": "execute_result",
          "data": {
            "text/html": [
              "<div>\n",
              "<style scoped>\n",
              "    .dataframe tbody tr th:only-of-type {\n",
              "        vertical-align: middle;\n",
              "    }\n",
              "\n",
              "    .dataframe tbody tr th {\n",
              "        vertical-align: top;\n",
              "    }\n",
              "\n",
              "    .dataframe thead th {\n",
              "        text-align: right;\n",
              "    }\n",
              "</style>\n",
              "<table border=\"1\" class=\"dataframe\">\n",
              "  <thead>\n",
              "    <tr style=\"text-align: right;\">\n",
              "      <th></th>\n",
              "      <th>Student#</th>\n",
              "      <th>Age</th>\n",
              "      <th>GPA</th>\n",
              "      <th>BirthYear</th>\n",
              "      <th>YearsEnrolled</th>\n",
              "    </tr>\n",
              "  </thead>\n",
              "  <tbody>\n",
              "    <tr>\n",
              "      <th>count</th>\n",
              "      <td>6.000000</td>\n",
              "      <td>6.000000</td>\n",
              "      <td>6.000000</td>\n",
              "      <td>6.000000</td>\n",
              "      <td>6.000000</td>\n",
              "    </tr>\n",
              "    <tr>\n",
              "      <th>mean</th>\n",
              "      <td>3.500000</td>\n",
              "      <td>19.666667</td>\n",
              "      <td>3.116667</td>\n",
              "      <td>2000.333333</td>\n",
              "      <td>1.666667</td>\n",
              "    </tr>\n",
              "    <tr>\n",
              "      <th>std</th>\n",
              "      <td>1.870829</td>\n",
              "      <td>1.632993</td>\n",
              "      <td>0.549242</td>\n",
              "      <td>1.632993</td>\n",
              "      <td>1.632993</td>\n",
              "    </tr>\n",
              "    <tr>\n",
              "      <th>min</th>\n",
              "      <td>1.000000</td>\n",
              "      <td>18.000000</td>\n",
              "      <td>2.500000</td>\n",
              "      <td>1998.000000</td>\n",
              "      <td>0.000000</td>\n",
              "    </tr>\n",
              "    <tr>\n",
              "      <th>25%</th>\n",
              "      <td>2.250000</td>\n",
              "      <td>18.250000</td>\n",
              "      <td>2.775000</td>\n",
              "      <td>1999.250000</td>\n",
              "      <td>0.250000</td>\n",
              "    </tr>\n",
              "    <tr>\n",
              "      <th>50%</th>\n",
              "      <td>3.500000</td>\n",
              "      <td>19.500000</td>\n",
              "      <td>3.000000</td>\n",
              "      <td>2000.500000</td>\n",
              "      <td>1.500000</td>\n",
              "    </tr>\n",
              "    <tr>\n",
              "      <th>75%</th>\n",
              "      <td>4.750000</td>\n",
              "      <td>20.750000</td>\n",
              "      <td>3.375000</td>\n",
              "      <td>2001.750000</td>\n",
              "      <td>2.750000</td>\n",
              "    </tr>\n",
              "    <tr>\n",
              "      <th>max</th>\n",
              "      <td>6.000000</td>\n",
              "      <td>22.000000</td>\n",
              "      <td>4.000000</td>\n",
              "      <td>2002.000000</td>\n",
              "      <td>4.000000</td>\n",
              "    </tr>\n",
              "  </tbody>\n",
              "</table>\n",
              "</div>"
            ],
            "text/plain": [
              "       Student#        Age       GPA    BirthYear  YearsEnrolled\n",
              "count  6.000000   6.000000  6.000000     6.000000       6.000000\n",
              "mean   3.500000  19.666667  3.116667  2000.333333       1.666667\n",
              "std    1.870829   1.632993  0.549242     1.632993       1.632993\n",
              "min    1.000000  18.000000  2.500000  1998.000000       0.000000\n",
              "25%    2.250000  18.250000  2.775000  1999.250000       0.250000\n",
              "50%    3.500000  19.500000  3.000000  2000.500000       1.500000\n",
              "75%    4.750000  20.750000  3.375000  2001.750000       2.750000\n",
              "max    6.000000  22.000000  4.000000  2002.000000       4.000000"
            ]
          },
          "metadata": {
            "tags": []
          },
          "execution_count": 6
        }
      ]
    },
    {
      "cell_type": "code",
      "metadata": {
        "id": "i-oAlmni_vDv",
        "outputId": "aafa59a8-e6f5-4264-b96b-b30c4e8f67f5",
        "colab": {
          "base_uri": "https://localhost:8080/",
          "height": 1000
        }
      },
      "source": [
        "#Graphs\n",
        "sns.catplot(x='GPA', data=df, kind='count', height=3, aspect=1.1 )\n",
        "sns.catplot(x='Age', data=df, kind='box', height=3, aspect=1.1 )\n",
        "df.hist(figsize=(15, 10), bins= 20, xlabelsize= 10, ylabelsize= 10)\n",
        "sns.catplot(x='Student#', data=df, kind='box', height=3, aspect=1.1 )\n",
        "sns.catplot(x='BirthYear', data=df, kind='count', height=3, aspect=1.1 )\n",
        "sns.catplot(x='YearsEnrolled', data=df, kind='count', height=3, aspect=1.1 )\n"
      ],
      "execution_count": 18,
      "outputs": [
        {
          "output_type": "execute_result",
          "data": {
            "text/plain": [
              "<seaborn.axisgrid.FacetGrid at 0x7fb8694f3f98>"
            ]
          },
          "metadata": {
            "tags": []
          },
          "execution_count": 18
        },
        {
          "output_type": "display_data",
          "data": {
            "image/png": "[encoded data removed]",
            "text/plain": [
              "<Figure size 237.6x216 with 1 Axes>"
            ]
          },
          "metadata": {
            "tags": [],
            "needs_background": "light"
          }
        },
        {
          "output_type": "display_data",
          "data": {
            "image/png": "[encoded data removed]",
            "text/plain": [
              "<Figure size 237.6x216 with 1 Axes>"
            ]
          },
          "metadata": {
            "tags": [],
            "needs_background": "light"
          }
        },
        {
          "output_type": "display_data",
          "data": {
            "image/png": "[encoded data removed]",
            "text/plain": [
              "<Figure size 1080x720 with 6 Axes>"
            ]
          },
          "metadata": {
            "tags": [],
            "needs_background": "light"
          }
        },
        {
          "output_type": "display_data",
          "data": {
            "image/png": "[encoded data removed]",
            "text/plain": [
              "<Figure size 237.6x216 with 1 Axes>"
            ]
          },
          "metadata": {
            "tags": [],
            "needs_background": "light"
          }
        },
        {
          "output_type": "display_data",
          "data": {
            "image/png": "[encoded data removed]",
            "text/plain": [
              "<Figure size 237.6x216 with 1 Axes>"
            ]
          },
          "metadata": {
            "tags": [],
            "needs_background": "light"
          }
        },
        {
          "output_type": "display_data",
          "data": {
            "image/png": "[encoded data removed]",
            "text/plain": [
              "<Figure size 237.6x216 with 1 Axes>"
            ]
          },
          "metadata": {
            "tags": [],
            "needs_background": "light"
          }
        }
      ]
    },
    {
      "cell_type": "code",
      "metadata": {
        "id": "lHXLpCfqEyam",
        "outputId": "5b09f65d-5662-4a88-8add-d47384cece91",
        "colab": {
          "base_uri": "https://localhost:8080/",
          "height": 601
        }
      },
      "source": [
        "corr = df.corr()\n",
        "fig, ax = plt.subplots(figsize=(10, 10))\n",
        "sns.heatmap(data=corr, square= True, annot= True, cbar= True, ax=ax)"
      ],
      "execution_count": 19,
      "outputs": [
        {
          "output_type": "execute_result",
          "data": {
            "text/plain": [
              "<matplotlib.axes._subplots.AxesSubplot at 0x7fb868b8c048>"
            ]
          },
          "metadata": {
            "tags": []
          },
          "execution_count": 19
        },
        {
          "output_type": "display_data",
          "data": {
            "image/png": "[encoded data removed]",
            "text/plain": [
              "<Figure size 720x720 with 2 Axes>"
            ]
          },
          "metadata": {
            "tags": [],
            "needs_background": "light"
          }
        }
      ]
    },
    {
      "cell_type": "markdown",
      "metadata": {
        "id": "yxf17EADGRC3"
      },
      "source": [
        "Data Science is the use of processes, algorithms and systems to extract knowledge and insights from data.\n",
        "\n",
        "The difference between lists and tuples are lists are mutable, slower and consume more memory while tuples are the opposite.\n",
        "\n",
        "Scikit is a simple and efficient tools for predictive data analysis.\n",
        "\n",
        "Pandas is used in a wide range of fields including academic and commercial domains including finance, economics, Statistics and analytics.\n",
        "\n",
        "TensorFlow is a Python library for fast numerical computing.\n",
        "\n",
        "Numpy is a commonly used Python data analysis package.\n",
        "\n",
        "Tkinter is the standard GUI library for Python.\n",
        "\n",
        "\n"
      ]
    }
  ]
}