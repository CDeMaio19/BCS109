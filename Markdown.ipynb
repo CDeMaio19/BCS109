{
  "nbformat": 4,
  "nbformat_minor": 0,
  "metadata": {
    "colab": {
      "name": "Untitled0.ipynb",
      "provenance": []
    },
    "kernelspec": {
      "name": "python3",
      "display_name": "Python 3"
    }
  },
  "cells": [
    {
      "cell_type": "markdown",
      "metadata": {
        "id": "shC7qnrkt-uy",
        "colab_type": "text"
      },
      "source": [
        "##About Me\n",
        "My name is **Chris DeMaio**. Something _interesting_ about me is I've developed four mobile applications."
      ]
    }
  ]
}